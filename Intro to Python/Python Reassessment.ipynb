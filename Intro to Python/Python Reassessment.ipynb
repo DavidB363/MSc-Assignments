{
 "cells": [
  {
   "cell_type": "code",
   "execution_count": 1,
   "metadata": {},
   "outputs": [],
   "source": [
    "# Introduction to Python Reassessment Assignment."
   ]
  },
  {
   "cell_type": "code",
   "execution_count": 2,
   "metadata": {},
   "outputs": [],
   "source": [
    "# Import .csv file and store in data (a list of lists).\n",
    "# Note: quoting=csv.QUOTE_NONNUMERIC ensures the elements of data are floating point numbers.\n",
    "\n",
    "import csv\n",
    "def load_from_csv(datafile):\n",
    "    \n",
    "        with open(datafile, 'r') as infile:\n",
    "            data = [rec for rec in csv.reader(infile, quoting=csv.QUOTE_NONNUMERIC)]\n",
    "        return data\n"
   ]
  },
  {
   "cell_type": "code",
   "execution_count": 3,
   "metadata": {},
   "outputs": [],
   "source": [
    "# Calculates the Euclidean distance between two data points given by the lists a and b.\n",
    "\n",
    "def get_distance(a, b):\n",
    "\n",
    "    sum_squares=0\n",
    "    for element in range(len(a)):\n",
    "        sum_squares = sum_squares+(a[element] - b[element])**2\n",
    "    Euclidean_distance = sum_squares ** 0.5\n",
    "    \n",
    "    return Euclidean_distance\n",
    "\n"
   ]
  },
  {
   "cell_type": "code",
   "execution_count": 4,
   "metadata": {},
   "outputs": [],
   "source": [
    "# The variable matrix is in the form of a list of lists.\n",
    "# Each of the interior lists can be thought of as a row in a matrix.\n",
    "# This function simply calculates the average of a specified column of the matrix.\n",
    "\n",
    "def get_average(matrix, column):\n",
    "\n",
    "    sum_elements=0\n",
    "    num_rows = len(matrix)    \n",
    "    for i in range(num_rows):\n",
    "        sum_elements += matrix[i][column]\n",
    "        \n",
    "    mean_value = sum_elements/num_rows\n",
    "    average = mean_value\n",
    "    \n",
    "    return average\n"
   ]
  },
  {
   "cell_type": "code",
   "execution_count": 5,
   "metadata": {},
   "outputs": [],
   "source": [
    "# Similar comments apply here as to the above function get_average.\n",
    "# In this case the standard deviation of a specified column is calculated.\n",
    "\n",
    "def get_standard_deviation(matrix, column):\n",
    "\n",
    "    sum_elements=0\n",
    "    num_rows = len(matrix)    \n",
    "    for i in range(num_rows):\n",
    "        sum_elements += matrix[i][column]\n",
    "        \n",
    "    mean_value = sum_elements/num_rows\n",
    "    sum_of_squared_deviation = 0\n",
    "    \n",
    "    for i in range(num_rows):\n",
    "        sum_of_squared_deviation += (matrix[i][column]- mean_value)**2\n",
    "    Standard_Deviation_column = ((sum_of_squared_deviation)/(num_rows-1))**0.5\n",
    "    \n",
    "    return Standard_Deviation_column\n"
   ]
  },
  {
   "cell_type": "code",
   "execution_count": 6,
   "metadata": {},
   "outputs": [],
   "source": [
    "# This function takes in a matrix and then standardises each column of the matrix.\n",
    "\n",
    "\n",
    "def get_standardised_matrix(matrix):\n",
    "    num_rows = len(matrix)\n",
    "    num_cols = len(matrix[0])    \n",
    "    col_average = []\n",
    "    col_std = []\n",
    "\n",
    "    for col in range(num_cols):\n",
    "        col_average.append(get_average(matrix,col))\n",
    "        col_std.append(get_standard_deviation(matrix,col))\n",
    "\n",
    "    standardised_matrix = []\n",
    "    for row in range(num_rows):\n",
    "        standardised_row = []\n",
    "        for col in range(num_cols):\n",
    "            if col_std[col] == 0:\n",
    "               col_std[col] = 0.01 # Avoid divide by zero (it will generally be nonzero). \n",
    "            standardised_value = (matrix[row][col] - col_average[col])/col_std[col]\n",
    "            standardised_row.append(standardised_value)\n",
    "        standardised_matrix.append(standardised_row)  \n",
    "        \n",
    "    return standardised_matrix\n"
   ]
  },
  {
   "cell_type": "code",
   "execution_count": 7,
   "metadata": {},
   "outputs": [],
   "source": [
    "# Finds the minimum value in a list, and its associated index.\n",
    "\n",
    "def find_min(a):\n",
    "    if len(a) == 1:\n",
    "        smallest = a[0]\n",
    "        index_smallest = 0\n",
    "    else: \n",
    "        smallest = a[0]\n",
    "        index_smallest = 0\n",
    "        for i in range(1,len(a)):\n",
    "            if a[i] < smallest:\n",
    "                smallest = a[i]\n",
    "                index_smallest = i\n",
    "                \n",
    "    return smallest, index_smallest\n",
    "\n",
    "# Finds the maximum value in a list\n",
    "\n",
    "def find_max(a):\n",
    "    if len(a) == 1:\n",
    "        largest = a[0]\n",
    "    else: \n",
    "        largest = a[0]\n",
    "        for i in range(1,len(a)):\n",
    "            if a[i] > largest:\n",
    "                largest = a[i]\n",
    "                \n",
    "    return largest\n",
    "\n"
   ]
  },
  {
   "cell_type": "code",
   "execution_count": 8,
   "metadata": {},
   "outputs": [],
   "source": [
    "# Determines indices of the k nearest neighbours of a data point (row_of_data).\n",
    "# The rows from Learning_Data_Labels corresponding to these indices are returned.\n",
    "\n",
    "def get_k_nearest_labels(row_of_data, matrix_learning, matrix_learning_labels, k):\n",
    "    num_rows = len(matrix_learning)\n",
    "    distances = []\n",
    "    nearest_distances = []\n",
    "    nearest_indices = []\n",
    "    \n",
    "    for row in range(num_rows):\n",
    "        dist = get_distance(row_of_data, matrix_learning[row])\n",
    "        distances.append(dist)\n",
    "        max_distance = find_max(distances)\n",
    "\n",
    "    distances_slice = distances.copy()  \n",
    "    for i in range(k):\n",
    "        min_distance, min_index = find_min(distances_slice)\n",
    "        nearest_distances.append(min_distance)\n",
    "        nearest_indices.append(min_index)\n",
    "        distances_slice[min_index] = max_distance # Set to maximum value.\n",
    "        \n",
    "    k_nearest_labels = []\n",
    "    for i in range(k):\n",
    "        k_nearest_labels.append(matrix_learning_labels[nearest_indices[i]])\n",
    "            \n",
    "    return k_nearest_labels\n"
   ]
  },
  {
   "cell_type": "code",
   "execution_count": 9,
   "metadata": {},
   "outputs": [],
   "source": [
    "# The mode of a set of numbers is determined by using a Python dictionary to keep a\n",
    "# count on the number of times distinct numbers appear.\n",
    "\n",
    "def get_mode(column_matrix):\n",
    "    H = dict()\n",
    "    max_H = 0\n",
    "    mode = None \n",
    "    \n",
    "    num_rows = len(column_matrix)\n",
    "    for row in range(num_rows):\n",
    "        x = column_matrix[row][0]\n",
    "        if x in H:\n",
    "            H[x] = H[x]+1\n",
    "        else:\n",
    "            H[x] = 0\n",
    "            \n",
    "        if H[x] > max_H:\n",
    "            max_H = H[x]\n",
    "            mode = x\n",
    "            \n",
    "    return mode\n"
   ]
  },
  {
   "cell_type": "code",
   "execution_count": 10,
   "metadata": {},
   "outputs": [],
   "source": [
    "# This function attempts to predict labels for the data Data by using the most frequent label\n",
    "# found using the k nearest neighbours approach.\n",
    "\n",
    "def classify(matrix_data_stand, matrix_learning_data_stand, matrix_learning_data_labels, k):\n",
    "    num_rows = len(matrix_data_stand)\n",
    "    data_labels = []\n",
    "    for row in range(num_rows):\n",
    "        k_nearest_labels = get_k_nearest_labels(matrix_data_stand[row], matrix_learning_data_stand, matrix_learning_data_labels, k)\n",
    "        mode = get_mode(k_nearest_labels)\n",
    "        data_labels.append([mode])\n",
    "        \n",
    "    return(data_labels)\n",
    "        "
   ]
  },
  {
   "cell_type": "code",
   "execution_count": 11,
   "metadata": {},
   "outputs": [],
   "source": [
    "# The accuracy is determined by comparing the predicted data labels with the correct data labels.\n",
    "\n",
    "def get_accuracy(matrix_correct_data_labels, data_labels):\n",
    "    num_rows = len(matrix_correct_data_labels)\n",
    "    matching = 0\n",
    "    for row in range(num_rows):\n",
    "        if matrix_correct_data_labels[row][0] == data_labels[row][0]:\n",
    "            matching += 1\n",
    "    fraction = matching/num_rows\n",
    "    accuracy = fraction * 100 # Percentage accuracy.\n",
    "    \n",
    "    return(accuracy)\n",
    "        "
   ]
  },
  {
   "cell_type": "code",
   "execution_count": 12,
   "metadata": {},
   "outputs": [],
   "source": [
    "# Run the classification problem using values of k from 3 to 15.\n",
    "# Print out the accuracy for each value of k.\n",
    "\n",
    "def run_test():\n",
    "    \n",
    "    # TOY data.\n",
    "    #matrix_data = load_from_csv(\"D:\\My Documents\\Essex Mdrive\\Intro to Python\\My Files\\Data Files\\Data_TOY.csv\")\n",
    "    #matrix_learning_data = load_from_csv(\"D:\\My Documents\\Essex Mdrive\\Intro to Python\\My Files\\Data Files\\Learning_Data_TOY.csv\")\n",
    "    #matrix_learning_data_labels = load_from_csv(\"D:\\My Documents\\Essex Mdrive\\Intro to Python\\My Files\\Data Files\\Learning_Data_Labels_TOY.csv\")\n",
    "    #matrix_correct_data_labels = load_from_csv(\"D:\\My Documents\\Essex Mdrive\\Intro to Python\\My Files\\Data Files\\Correct_Data_Labels_TOY.csv\")\n",
    "\n",
    "    matrix_data = load_from_csv(\"D:\\My Documents\\Essex Mdrive\\Intro to Python\\My Files\\Data Files\\Data.csv\")\n",
    "    matrix_learning_data = load_from_csv(\"D:\\My Documents\\Essex Mdrive\\Intro to Python\\My Files\\Data Files\\Learning_Data.csv\")\n",
    "    matrix_learning_data_labels = load_from_csv(\"D:\\My Documents\\Essex Mdrive\\Intro to Python\\My Files\\Data Files\\Learning_Data_Labels.csv\")\n",
    "    matrix_correct_data_labels = load_from_csv(\"D:\\My Documents\\Essex Mdrive\\Intro to Python\\My Files\\Data Files\\Correct_Data_Labels.csv\")\n",
    "\n",
    "    standardised_matrix_data = get_standardised_matrix(matrix_data)\n",
    "    standardised_matrix_learning_data = get_standardised_matrix(matrix_learning_data)\n",
    "    \n",
    "    for k in range(3,16):\n",
    "        data_labels = classify(standardised_matrix_data, standardised_matrix_learning_data, matrix_learning_data_labels, k)\n",
    "        accuracy = get_accuracy(matrix_correct_data_labels, data_labels)\n",
    "        print('k =',k,' Accuracy is %.2f' % accuracy, '%')\n"
   ]
  },
  {
   "cell_type": "code",
   "execution_count": 13,
   "metadata": {},
   "outputs": [
    {
     "name": "stdout",
     "output_type": "stream",
     "text": [
      "k = 3  Accuracy is 95.00 %\n",
      "k = 4  Accuracy is 95.00 %\n",
      "k = 5  Accuracy is 95.71 %\n",
      "k = 6  Accuracy is 95.71 %\n",
      "k = 7  Accuracy is 94.29 %\n",
      "k = 8  Accuracy is 94.29 %\n",
      "k = 9  Accuracy is 95.71 %\n",
      "k = 10  Accuracy is 95.71 %\n",
      "k = 11  Accuracy is 95.71 %\n",
      "k = 12  Accuracy is 95.71 %\n",
      "k = 13  Accuracy is 95.71 %\n",
      "k = 14  Accuracy is 95.71 %\n",
      "k = 15  Accuracy is 95.00 %\n"
     ]
    }
   ],
   "source": [
    "# Run the classification problem.\n",
    "\n",
    "run_test()"
   ]
  },
  {
   "cell_type": "code",
   "execution_count": null,
   "metadata": {},
   "outputs": [],
   "source": []
  }
 ],
 "metadata": {
  "kernelspec": {
   "display_name": "Python 3",
   "language": "python",
   "name": "python3"
  },
  "language_info": {
   "codemirror_mode": {
    "name": "ipython",
    "version": 3
   },
   "file_extension": ".py",
   "mimetype": "text/x-python",
   "name": "python",
   "nbconvert_exporter": "python",
   "pygments_lexer": "ipython3",
   "version": "3.7.4"
  }
 },
 "nbformat": 4,
 "nbformat_minor": 2
}
