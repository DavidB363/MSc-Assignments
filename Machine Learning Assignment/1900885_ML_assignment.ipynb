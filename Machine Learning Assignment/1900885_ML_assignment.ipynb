{
 "cells": [
  {
   "cell_type": "markdown",
   "metadata": {},
   "source": [
    "# Assignment: Design and Application of a Machine Learning System for a Practical Problem"
   ]
  },
  {
   "cell_type": "markdown",
   "metadata": {},
   "source": [
    "Student Registration Number 1900885."
   ]
  },
  {
   "cell_type": "code",
   "execution_count": 1,
   "metadata": {},
   "outputs": [],
   "source": [
    "import pandas as pd"
   ]
  },
  {
   "cell_type": "code",
   "execution_count": 2,
   "metadata": {},
   "outputs": [],
   "source": [
    "import numpy as np"
   ]
  },
  {
   "cell_type": "code",
   "execution_count": 3,
   "metadata": {},
   "outputs": [],
   "source": [
    "import sklearn\n",
    "# print(sklearn.__version__)"
   ]
  },
  {
   "cell_type": "markdown",
   "metadata": {},
   "source": [
    "Import training data. Note that training_data has the structure of a dataframe."
   ]
  },
  {
   "cell_type": "code",
   "execution_count": 4,
   "metadata": {},
   "outputs": [],
   "source": [
    "training_data =  pd.read_csv(\"M:/My Documents/M Drive material/Machine Learning/Assignment/CE802_Ass_2019_Data.csv\",header=0)\n",
    "# print(training_data.head)"
   ]
  },
  {
   "cell_type": "markdown",
   "metadata": {},
   "source": [
    "Imputation performed on the data, where missing values are replaced by the mean value of the data in the column (F20)."
   ]
  },
  {
   "cell_type": "code",
   "execution_count": 5,
   "metadata": {},
   "outputs": [
    {
     "name": "stdout",
     "output_type": "stream",
     "text": [
      "Training data: mean value of F20 = 0.07414634146341462\n"
     ]
    }
   ],
   "source": [
    "F20_mean = training_data['F20'].mean()\n",
    "print('Training data: mean value of F20 =', F20_mean)"
   ]
  },
  {
   "cell_type": "code",
   "execution_count": 6,
   "metadata": {},
   "outputs": [],
   "source": [
    "training_data['F20'].fillna(F20_mean,inplace=True)"
   ]
  },
  {
   "cell_type": "markdown",
   "metadata": {},
   "source": [
    "Save new data with imputed values to Imputed_Data.csv file."
   ]
  },
  {
   "cell_type": "code",
   "execution_count": 7,
   "metadata": {},
   "outputs": [],
   "source": [
    "training_data.to_csv(\"M:/My Documents/M Drive material/Machine Learning/Assignment/Imputed_Data.csv\",index=False)"
   ]
  },
  {
   "cell_type": "markdown",
   "metadata": {},
   "source": [
    "Convert the dataframe into a numpy array."
   ]
  },
  {
   "cell_type": "code",
   "execution_count": 8,
   "metadata": {},
   "outputs": [],
   "source": [
    "# numpy_array = training_data.as_matrix() This works okay, but will eventually be replaced with the code below.\n",
    "numpy_array = training_data.values\n",
    "# print(numpy_array)"
   ]
  },
  {
   "cell_type": "markdown",
   "metadata": {},
   "source": [
    "X is a slice of the data that contains the predictor variables (F1 to F20)."
   ]
  },
  {
   "cell_type": "code",
   "execution_count": 9,
   "metadata": {},
   "outputs": [],
   "source": [
    "X  = numpy_array[:,:-1]\n",
    "# print(X)"
   ]
  },
  {
   "cell_type": "code",
   "execution_count": 10,
   "metadata": {},
   "outputs": [],
   "source": [
    "# print(X.shape)"
   ]
  },
  {
   "cell_type": "markdown",
   "metadata": {},
   "source": [
    "X_minusF20 is a slice of the data that contains the predictor variables (F1 to F19).\n",
    "This data does not include the column that originally had missing values (i.e. F20)."
   ]
  },
  {
   "cell_type": "code",
   "execution_count": 11,
   "metadata": {},
   "outputs": [],
   "source": [
    "X_minusF20 = numpy_array[:,:-2]\n",
    "# print(X_minusF20)"
   ]
  },
  {
   "cell_type": "code",
   "execution_count": 12,
   "metadata": {},
   "outputs": [],
   "source": [
    "# print(X_minusF20.shape)"
   ]
  },
  {
   "cell_type": "markdown",
   "metadata": {},
   "source": [
    "y is a slice of the data that contains the response variable (Class)."
   ]
  },
  {
   "cell_type": "code",
   "execution_count": 13,
   "metadata": {},
   "outputs": [],
   "source": [
    "y=numpy_array[:,-1]\n",
    "# print(y)"
   ]
  },
  {
   "cell_type": "markdown",
   "metadata": {},
   "source": [
    "# Classification Procedures"
   ]
  },
  {
   "cell_type": "markdown",
   "metadata": {},
   "source": [
    "The following code is composed of a variety of machine learning procedures that are trained using the two data sets;\n",
    "(a) The data set that does not include the column with missing values, and \n",
    "(b) The full data set with imputed values."
   ]
  },
  {
   "cell_type": "markdown",
   "metadata": {},
   "source": [
    "Import procedures to carry out cross validation."
   ]
  },
  {
   "cell_type": "code",
   "execution_count": 14,
   "metadata": {},
   "outputs": [],
   "source": [
    "from sklearn.model_selection import KFold, cross_val_score"
   ]
  },
  {
   "cell_type": "markdown",
   "metadata": {},
   "source": [
    "Import the procedure to calculate the Cohen kappa statistic."
   ]
  },
  {
   "cell_type": "code",
   "execution_count": 15,
   "metadata": {},
   "outputs": [],
   "source": [
    "from sklearn.metrics import cohen_kappa_score"
   ]
  },
  {
   "cell_type": "markdown",
   "metadata": {},
   "source": [
    "# Logistic Regression (Classification)."
   ]
  },
  {
   "cell_type": "markdown",
   "metadata": {},
   "source": [
    "Import the LogisticRegression class and create a logistic regression classifier."
   ]
  },
  {
   "cell_type": "code",
   "execution_count": 16,
   "metadata": {},
   "outputs": [],
   "source": [
    "from sklearn.linear_model import LogisticRegression"
   ]
  },
  {
   "cell_type": "code",
   "execution_count": 17,
   "metadata": {},
   "outputs": [],
   "source": [
    " clf = LogisticRegression(C=0.001, penalty='l2', tol=0.01, solver='saga')"
   ]
  },
  {
   "cell_type": "markdown",
   "metadata": {},
   "source": [
    "Use reduced training data set."
   ]
  },
  {
   "cell_type": "code",
   "execution_count": 18,
   "metadata": {},
   "outputs": [
    {
     "name": "stdout",
     "output_type": "stream",
     "text": [
      "Average accuracy: 0.5660000000000001\n",
      "Average kappa statistic: 0.08753177612940312\n"
     ]
    }
   ],
   "source": [
    "score = []\n",
    "k_fold = KFold(n_splits=10)\n",
    "kappa_score = []\n",
    "\n",
    "for train_indices, test_indices in k_fold.split(X_minusF20): \n",
    "    # print('Train: %s | test: %s' % (train_indices, test_indices))\n",
    "    \n",
    "    # Must convert y to a list structure for the functions .fit, .score and .cohen_kappa_score to work.\n",
    "    \n",
    "    clf.fit(X_minusF20[train_indices], list(y[train_indices]))\n",
    "    score.append(clf.score(X_minusF20[test_indices], list(y[test_indices])))\n",
    "   \n",
    "    y_prediction = clf.predict(X_minusF20[test_indices])\n",
    "\n",
    "    kappa_score.append(cohen_kappa_score(y_prediction, list(y[test_indices])))\n",
    "    \n",
    "    \n",
    "print('Average accuracy:', np.mean(score))\n",
    "print('Average kappa statistic:', np.mean(kappa_score))  \n"
   ]
  },
  {
   "cell_type": "markdown",
   "metadata": {},
   "source": [
    "Use full imputed training data set."
   ]
  },
  {
   "cell_type": "code",
   "execution_count": 19,
   "metadata": {},
   "outputs": [
    {
     "name": "stdout",
     "output_type": "stream",
     "text": [
      "Average accuracy: 0.5820000000000001\n",
      "Average kappa statistic: 0.12002775810075747\n"
     ]
    }
   ],
   "source": [
    "score = []\n",
    "k_fold = KFold(n_splits=10)\n",
    "kappa_score = []\n",
    "\n",
    "for train_indices, test_indices in k_fold.split(X): \n",
    "    #print('Train: %s | test: %s' % (train_indices, test_indices))\n",
    "    \n",
    "    # Must convert y to a list structure for the functions .fit, .score and .cohen_kappa_score to work.\n",
    "    \n",
    "    clf.fit(X[train_indices], list(y[train_indices]))\n",
    "    score.append(clf.score(X[test_indices], list(y[test_indices])))\n",
    "    \n",
    "    y_prediction = clf.predict(X[test_indices])\n",
    "\n",
    "    kappa_score.append(cohen_kappa_score(y_prediction, list(y[test_indices])))\n",
    "    \n",
    "print('Average accuracy:', np.mean(score))    \n",
    "print('Average kappa statistic:', np.mean(kappa_score)) "
   ]
  },
  {
   "cell_type": "markdown",
   "metadata": {},
   "source": [
    "# Decision Tree Procedure."
   ]
  },
  {
   "cell_type": "markdown",
   "metadata": {},
   "source": [
    "Import the tree class and create a tree classifier."
   ]
  },
  {
   "cell_type": "code",
   "execution_count": 20,
   "metadata": {},
   "outputs": [],
   "source": [
    "from sklearn import tree\n",
    "clf = tree.DecisionTreeClassifier(max_depth=3)"
   ]
  },
  {
   "cell_type": "markdown",
   "metadata": {},
   "source": [
    "Use reduced training data set."
   ]
  },
  {
   "cell_type": "code",
   "execution_count": 21,
   "metadata": {},
   "outputs": [
    {
     "name": "stdout",
     "output_type": "stream",
     "text": [
      "Average accuracy: 0.5400000000000001\n",
      "Average kappa statistic: 0.05767797751171527\n"
     ]
    }
   ],
   "source": [
    "score = []\n",
    "# k_fold = KFold(n_splits=10)\n",
    "kappa_score = []\n",
    "\n",
    "for train_indices, test_indices in k_fold.split(X_minusF20): \n",
    "    # print('Train: %s | test: %s' % (train_indices, test_indices))\n",
    "    \n",
    "    # Must convert y to a list structure for the functions .fit, .score and .cohen_kappa_score to work.\n",
    "    \n",
    "    clf.fit(X_minusF20[train_indices], list(y[train_indices]))\n",
    "    score.append(clf.score(X_minusF20[test_indices], list(y[test_indices])))\n",
    "   \n",
    "    y_prediction = clf.predict(X_minusF20[test_indices])\n",
    "\n",
    "    kappa_score.append(cohen_kappa_score(y_prediction, list(y[test_indices])))\n",
    "    \n",
    "    \n",
    "print('Average accuracy:', np.mean(score))\n",
    "print('Average kappa statistic:', np.mean(kappa_score))  \n"
   ]
  },
  {
   "cell_type": "markdown",
   "metadata": {},
   "source": [
    "Use full imputed training data set."
   ]
  },
  {
   "cell_type": "code",
   "execution_count": 22,
   "metadata": {},
   "outputs": [
    {
     "name": "stdout",
     "output_type": "stream",
     "text": [
      "Average accuracy: 0.594\n",
      "Average kappa statistic: 0.1383328856328307\n"
     ]
    }
   ],
   "source": [
    "score = []\n",
    "k_fold = KFold(n_splits=10)\n",
    "kappa_score = []\n",
    "\n",
    "for train_indices, test_indices in k_fold.split(X): \n",
    "    #print('Train: %s | test: %s' % (train_indices, test_indices))\n",
    "    \n",
    "    # Must convert y to a list structure for the functions .fit, .score and .cohen_kappa_score to work.\n",
    "    \n",
    "    clf.fit(X[train_indices], list(y[train_indices]))\n",
    "    score.append(clf.score(X[test_indices], list(y[test_indices])))\n",
    "    \n",
    "    y_prediction = clf.predict(X[test_indices])\n",
    "\n",
    "    kappa_score.append(cohen_kappa_score(y_prediction, list(y[test_indices])))\n",
    "    \n",
    "print('Average accuracy:', np.mean(score))    \n",
    "print('Average kappa statistic:', np.mean(kappa_score)) \n",
    "  "
   ]
  },
  {
   "cell_type": "markdown",
   "metadata": {},
   "source": [
    "# K Nearest Neighbours Procedure."
   ]
  },
  {
   "cell_type": "markdown",
   "metadata": {},
   "source": [
    "Import the KNeighborsClassifier class."
   ]
  },
  {
   "cell_type": "code",
   "execution_count": 23,
   "metadata": {},
   "outputs": [],
   "source": [
    "from sklearn.neighbors import KNeighborsClassifier"
   ]
  },
  {
   "cell_type": "markdown",
   "metadata": {},
   "source": [
    "Create a K Nearest Neighbours classifier."
   ]
  },
  {
   "cell_type": "code",
   "execution_count": 24,
   "metadata": {},
   "outputs": [],
   "source": [
    "clf = KNeighborsClassifier(n_neighbors=10)"
   ]
  },
  {
   "cell_type": "markdown",
   "metadata": {},
   "source": [
    "Use reduced training data set."
   ]
  },
  {
   "cell_type": "code",
   "execution_count": 25,
   "metadata": {},
   "outputs": [
    {
     "name": "stdout",
     "output_type": "stream",
     "text": [
      "Average accuracy: 0.6280000000000001\n",
      "Average kappa statistic: 0.21643365764207506\n"
     ]
    }
   ],
   "source": [
    "score = []\n",
    "k_fold = KFold(n_splits=10)\n",
    "kappa_score = []\n",
    "\n",
    "for train_indices, test_indices in k_fold.split(X_minusF20): \n",
    "    # print('Train: %s | test: %s' % (train_indices, test_indices))\n",
    "    \n",
    "    # Must convert y to a list structure for the functions .fit, .score and .cohen_kappa_score to work.\n",
    "    \n",
    "    clf.fit(X_minusF20[train_indices], list(y[train_indices]))\n",
    "    score.append(clf.score(X_minusF20[test_indices], list(y[test_indices])))\n",
    "   \n",
    "    y_prediction = clf.predict(X_minusF20[test_indices])\n",
    "\n",
    "    kappa_score.append(cohen_kappa_score(y_prediction, list(y[test_indices])))\n",
    "    \n",
    "    \n",
    "print('Average accuracy:', np.mean(score))\n",
    "print('Average kappa statistic:', np.mean(kappa_score))  \n"
   ]
  },
  {
   "cell_type": "markdown",
   "metadata": {},
   "source": [
    "Use full imputed training data set."
   ]
  },
  {
   "cell_type": "code",
   "execution_count": 26,
   "metadata": {},
   "outputs": [
    {
     "name": "stdout",
     "output_type": "stream",
     "text": [
      "Average accuracy: 0.634\n",
      "Average kappa statistic: 0.22844176760816798\n"
     ]
    }
   ],
   "source": [
    "score = []\n",
    "k_fold = KFold(n_splits=10)\n",
    "kappa_score = []\n",
    "\n",
    "for train_indices, test_indices in k_fold.split(X): \n",
    "    #print('Train: %s | test: %s' % (train_indices, test_indices))\n",
    "    \n",
    "    # Must convert y to a list structure for the functions .fit, .score and .cohen_kappa_score to work.\n",
    "    \n",
    "    clf.fit(X[train_indices], list(y[train_indices]))\n",
    "    score.append(clf.score(X[test_indices], list(y[test_indices])))\n",
    "    \n",
    "    y_prediction = clf.predict(X[test_indices])\n",
    "\n",
    "    kappa_score.append(cohen_kappa_score(y_prediction, list(y[test_indices])))\n",
    "    \n",
    "print('Average accuracy:', np.mean(score))    \n",
    "print('Average kappa statistic:', np.mean(kappa_score)) "
   ]
  },
  {
   "cell_type": "markdown",
   "metadata": {},
   "source": [
    "# Support Vector Machine Procedure."
   ]
  },
  {
   "cell_type": "markdown",
   "metadata": {},
   "source": [
    "Import the svm class."
   ]
  },
  {
   "cell_type": "code",
   "execution_count": 27,
   "metadata": {},
   "outputs": [],
   "source": [
    "from sklearn import svm"
   ]
  },
  {
   "cell_type": "markdown",
   "metadata": {},
   "source": [
    "Create a support vector classifier."
   ]
  },
  {
   "cell_type": "code",
   "execution_count": 28,
   "metadata": {},
   "outputs": [],
   "source": [
    "# clf = svm.SVC(gamma=0.0001, C=100.)\n",
    "clf = svm.SVC(gamma=0.00001, C=1000.)\n",
    "# svm.SVC()"
   ]
  },
  {
   "cell_type": "markdown",
   "metadata": {},
   "source": [
    "Use reduced training data set."
   ]
  },
  {
   "cell_type": "code",
   "execution_count": 29,
   "metadata": {},
   "outputs": [
    {
     "name": "stdout",
     "output_type": "stream",
     "text": [
      "Average accuracy: 0.6559999999999999\n",
      "Average kappa statistic: 0.2928334291706803\n"
     ]
    }
   ],
   "source": [
    "score = []\n",
    "k_fold = KFold(n_splits=10)\n",
    "kappa_score = []\n",
    "\n",
    "for train_indices, test_indices in k_fold.split(X_minusF20): \n",
    "    # print('Train: %s | test: %s' % (train_indices, test_indices))\n",
    "    \n",
    "    # Must convert y to a list structure for the functions .fit, .score and .cohen_kappa_score to work.\n",
    "    \n",
    "    clf.fit(X_minusF20[train_indices], list(y[train_indices]))\n",
    "    score.append(clf.score(X_minusF20[test_indices], list(y[test_indices])))\n",
    "   \n",
    "    y_prediction = clf.predict(X_minusF20[test_indices])\n",
    "\n",
    "    kappa_score.append(cohen_kappa_score(y_prediction, list(y[test_indices])))\n",
    "    \n",
    "    \n",
    "print('Average accuracy:', np.mean(score))\n",
    "print('Average kappa statistic:', np.mean(kappa_score))  \n"
   ]
  },
  {
   "cell_type": "markdown",
   "metadata": {},
   "source": [
    "Use full imputed training data set."
   ]
  },
  {
   "cell_type": "code",
   "execution_count": 30,
   "metadata": {},
   "outputs": [
    {
     "name": "stdout",
     "output_type": "stream",
     "text": [
      "Average accuracy: 0.6719999999999999\n",
      "Average kappa statistic: 0.3257365393490851\n"
     ]
    }
   ],
   "source": [
    "score = []\n",
    "k_fold = KFold(n_splits=10)\n",
    "kappa_score = []\n",
    "\n",
    "for train_indices, test_indices in k_fold.split(X): \n",
    "    #print('Train: %s | test: %s' % (train_indices, test_indices))\n",
    "    \n",
    "    # Must convert y to a list structure for the functions .fit, .score and .cohen_kappa_score to work.\n",
    "    \n",
    "    clf.fit(X[train_indices], list(y[train_indices]))\n",
    "    score.append(clf.score(X[test_indices], list(y[test_indices])))\n",
    "    \n",
    "    y_prediction = clf.predict(X[test_indices])\n",
    "\n",
    "    kappa_score.append(cohen_kappa_score(y_prediction, list(y[test_indices])))\n",
    "    \n",
    "print('Average accuracy:', np.mean(score))    \n",
    "print('Average kappa statistic:', np.mean(kappa_score)) \n",
    "  "
   ]
  },
  {
   "cell_type": "markdown",
   "metadata": {},
   "source": [
    "# Classifier Selection."
   ]
  },
  {
   "cell_type": "markdown",
   "metadata": {},
   "source": [
    "It can be seen that the SVM classifier using imputed data results in the highest scores for accuracy and kappa statistic. This classifier will therefore be used on the test data file to predict the response variable 'Class'."
   ]
  },
  {
   "cell_type": "markdown",
   "metadata": {},
   "source": [
    "Import test data. Note that test_data has the structure of a dataframe."
   ]
  },
  {
   "cell_type": "code",
   "execution_count": 31,
   "metadata": {},
   "outputs": [],
   "source": [
    "test_data =  pd.read_csv(\"M:/My Documents/M Drive material/Machine Learning/Assignment/CE802_Ass_2019_Test.csv\",header=0)\n",
    "# print(test_data.head)"
   ]
  },
  {
   "cell_type": "markdown",
   "metadata": {},
   "source": [
    "Imputation performed on the test data, where missing values are replaced by the mean value of the data in the column (F20)."
   ]
  },
  {
   "cell_type": "code",
   "execution_count": 32,
   "metadata": {},
   "outputs": [
    {
     "name": "stdout",
     "output_type": "stream",
     "text": [
      "Test data: mean value of F20 = 0.017763975155279495\n"
     ]
    }
   ],
   "source": [
    "F20_mean = test_data['F20'].mean()\n",
    "print('Test data: mean value of F20 =', F20_mean)"
   ]
  },
  {
   "cell_type": "code",
   "execution_count": 33,
   "metadata": {},
   "outputs": [],
   "source": [
    "test_data['F20'].fillna(F20_mean,inplace=True)"
   ]
  },
  {
   "cell_type": "markdown",
   "metadata": {},
   "source": [
    "Save new data with imputed values to Imputed_Test.csv file."
   ]
  },
  {
   "cell_type": "code",
   "execution_count": 34,
   "metadata": {},
   "outputs": [],
   "source": [
    "test_data.to_csv(\"M:/My Documents/M Drive material/Machine Learning/Assignment/Imputed_Test.csv\",index=False)"
   ]
  },
  {
   "cell_type": "markdown",
   "metadata": {},
   "source": [
    "Convert the dataframe to a numpy array."
   ]
  },
  {
   "cell_type": "code",
   "execution_count": 35,
   "metadata": {},
   "outputs": [],
   "source": [
    "numpy_array = test_data.values\n",
    "# print(numpy_array)"
   ]
  },
  {
   "cell_type": "markdown",
   "metadata": {},
   "source": [
    "X_test is a slice of the data that contains the predictor variables (F1 to F20)."
   ]
  },
  {
   "cell_type": "code",
   "execution_count": 36,
   "metadata": {},
   "outputs": [],
   "source": [
    "X_test  = numpy_array[:,:-1]\n",
    "# print(X_test)\n",
    "# print(X_test.shape)"
   ]
  },
  {
   "cell_type": "markdown",
   "metadata": {},
   "source": [
    "Use SVM model using all the training data, which includes imputed feature F20, to make class predictions on the test data set."
   ]
  },
  {
   "cell_type": "code",
   "execution_count": 37,
   "metadata": {},
   "outputs": [],
   "source": [
    "clf.fit(X, list(y))\n",
    "y_prediction = clf.predict(X_test)\n",
    "# print(y_prediction)"
   ]
  },
  {
   "cell_type": "markdown",
   "metadata": {},
   "source": [
    "Create a SVM_Prediction.csv file which includes the predictions using the test data."
   ]
  },
  {
   "cell_type": "code",
   "execution_count": 38,
   "metadata": {},
   "outputs": [],
   "source": [
    "svm_prediction = pd.read_csv(\"M:/My Documents/M Drive material/Machine Learning/Assignment/Imputed_Test.csv\",header=0)"
   ]
  },
  {
   "cell_type": "code",
   "execution_count": 39,
   "metadata": {},
   "outputs": [],
   "source": [
    "svm_prediction['Class'] = y_prediction"
   ]
  },
  {
   "cell_type": "code",
   "execution_count": 40,
   "metadata": {},
   "outputs": [],
   "source": [
    "svm_prediction.to_csv(\"M:/My Documents/M Drive material/Machine Learning/Assignment/SVM_Prediction file.csv\",index=False)"
   ]
  }
 ],
 "metadata": {
  "celltoolbar": "Raw Cell Format",
  "kernelspec": {
   "display_name": "Python 3",
   "language": "python",
   "name": "python3"
  },
  "language_info": {
   "codemirror_mode": {
    "name": "ipython",
    "version": 3
   },
   "file_extension": ".py",
   "mimetype": "text/x-python",
   "name": "python",
   "nbconvert_exporter": "python",
   "pygments_lexer": "ipython3",
   "version": "3.6.5"
  }
 },
 "nbformat": 4,
 "nbformat_minor": 2
}
